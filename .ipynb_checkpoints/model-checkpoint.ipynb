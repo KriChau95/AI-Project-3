{
 "cells": [
  {
   "cell_type": "code",
   "execution_count": 3,
   "id": "37ac36de-6477-4991-9935-791b3c39c6dd",
   "metadata": {},
   "outputs": [],
   "source": [
    "import torch                                  # Main PyTorch Library\n",
    "import matplotlib.pyplot as plt               # Useful if we want to plot anything\n",
    "import numpy as np                            # Numerical matrix/array calculation support\n",
    "import torch.nn as nn                         # Specific pytorch functionality useful for neural networks\n",
    "import torch.optim as optim                   # PyTorch optimizers (let it handle the gradient updates so you don't have to)\n",
    "import random   "
   ]
  },
  {
   "cell_type": "code",
   "execution_count": 7,
   "id": "7657b5d4-30a0-40c3-bc63-622c5782eeba",
   "metadata": {},
   "outputs": [],
   "source": [
    "from visualize import *"
   ]
  },
  {
   "cell_type": "code",
   "execution_count": 9,
   "id": "bd9e23e5-b366-47b7-8c8f-bfcd29d094e5",
   "metadata": {},
   "outputs": [
    {
     "name": "stdout",
     "output_type": "stream",
     "text": [
      "Loaded 554777 map snapshots.\n",
      "Loaded 554777 labels.\n"
     ]
    }
   ],
   "source": [
    "import pickle\n",
    "\n",
    "# Load data\n",
    "with open(\"data.pkl\", \"rb\") as f:\n",
    "    data = pickle.load(f)\n",
    "\n",
    "# Load labels\n",
    "with open(\"labels.pkl\", \"rb\") as f:\n",
    "    labels = pickle.load(f)\n",
    "\n",
    "# Check what's inside\n",
    "print(f\"Loaded {len(data)} map snapshots.\")\n",
    "print(f\"Loaded {len(labels)} labels.\")"
   ]
  },
  {
   "cell_type": "code",
   "execution_count": 15,
   "id": "fdda7f1e-36d4-47d9-b5df-e29f9695dd04",
   "metadata": {},
   "outputs": [],
   "source": [
    "class CNN_MNISTNetwork(nn.Module):\n",
    "  def __init__(self):\n",
    "    super(CNN_MNISTNetwork, self).__init__()\n",
    "\n",
    "    self.conv_1 = torch.nn.Conv2d( in_channels = 1, out_channels = 20, kernel_size = (3,3), stride = 1, bias = True)\n",
    "\n",
    "    self.linear = torch.nn.Linear( in_features = 28*28*20, out_features = 10, bias = True )\n",
    "\n",
    "  def forward(self, input_tensor):\n",
    "\n",
    "    reshaped = torch.reshape( input_tensor, (-1, 1, 30, 30) # The -1 is a shorthand for 'whatever value you need to make the other dimensions work out'\n",
    "    # If you tried to reshape a 2 x 5 tensor to (-1,10), would return a 1 x 10 tensor\n",
    "\n",
    "    conv_results = self.conv_1( reshaped ) # output an [ N x 20 x 26 x 26 ] block\n",
    "\n",
    "    conv_results = torch.nn.Tanh()( conv_results ) # Apply sigmoid for nonlinear features\n",
    "\n",
    "    flattened = torch.nn.Flatten()( conv_results ) # [ N x (20*26*26) ]\n",
    "\n",
    "    logits = self.linear( flattened )\n",
    "\n",
    "    probabilities = nn.Softmax( dim = 1 )( logits )\n",
    "    return logits, probabilities"
   ]
  },
  {
   "cell_type": "code",
   "execution_count": 21,
   "id": "ece353bc-1c11-4c0b-925d-4f25b36e3042",
   "metadata": {},
   "outputs": [],
   "source": [
    "cnn_model = CNN_MNISTNetwork()\n",
    "cnn_optimizer = optim.SGD( cnn_model.parameters(), lr = 0.01 )"
   ]
  },
  {
   "cell_type": "code",
   "execution_count": 105,
   "id": "985cd320-92b5-4a10-b961-8f68d50a313e",
   "metadata": {},
   "outputs": [
    {
     "name": "stdout",
     "output_type": "stream",
     "text": [
      "torch.Size([80000, 30, 30]) torch.Size([80000])\n",
      "torch.Size([20000, 30, 30]) torch.Size([20000])\n"
     ]
    }
   ],
   "source": [
    "data_tensor = torch.tensor(data, dtype=torch.int32)        # shape: [100000, 30, 30]\n",
    "labels_tensor = torch.tensor(labels, dtype=torch.float32)  # shape: [100000]\n",
    "\n",
    "perm = torch.randperm(len(data_tensor))\n",
    "\n",
    "shuffled_data = data_tensor[perm]\n",
    "shuffled_labels = labels_tensor[perm]\n",
    "\n",
    "x_train = shuffled_data[:80000]        # [80000, 30, 30]\n",
    "y_train = shuffled_labels[:80000]    # [80000]\n",
    "\n",
    "x_test = shuffled_data[80000:100000]         # [20000, 30, 30]\n",
    "y_test = shuffled_labels[80000:100000]     # [20000]\n",
    "\n",
    "print(train_data.shape, train_labels.shape)\n",
    "print(test_data.shape, test_labels.shape)"
   ]
  },
  {
   "cell_type": "code",
   "execution_count": 107,
   "id": "76c28ba5-aec7-4656-8679-7ecce31babf5",
   "metadata": {},
   "outputs": [
    {
     "data": {
      "text/plain": [
       "(tensor([[ 1,  1,  1,  1,  1,  1,  1,  1,  1,  1,  1,  1,  1,  1,  1,  1,  1,  1,\n",
       "           1,  1,  1,  1,  1,  1,  1,  1,  1,  1,  1,  1],\n",
       "         [ 1,  0,  0,  0,  0,  1,  0,  1, -1,  0,  0,  0,  0,  0,  0,  0,  1,  0,\n",
       "           0,  0,  1,  1,  0,  0,  0,  1,  0,  0,  1,  1],\n",
       "         [ 1,  0,  1,  0,  0,  0,  0,  0,  1,  1,  1,  1,  0,  1,  1,  0,  0,  0,\n",
       "           1,  0,  0,  0,  0,  0,  0,  0,  0,  0,  0,  1],\n",
       "         [ 1,  0,  0,  0,  0,  0,  1,  0,  1,  0,  0,  1,  1,  0,  0,  0,  1,  1,\n",
       "           0,  1, -1,  1,  0,  1,  1,  1,  0,  1,  0,  1],\n",
       "         [ 1,  0,  1,  0,  0,  0,  0,  0,  0,  0,  0,  0,  0,  0,  0,  0,  0,  1,\n",
       "           0,  0,  1,  0,  0,  0,  0,  0,  0,  0,  0,  1],\n",
       "         [ 1,  0,  0,  1,  0,  1,  1,  1,  0,  1,  0,  1,  1,  0,  0,  0,  1,  0,\n",
       "           0,  1,  0,  0,  1,  1,  0,  0,  0,  1,  0,  1],\n",
       "         [ 1,  1, -1,  0,  0,  1,  0,  0,  0,  1,  0,  0,  0,  1,  1,  0,  0,  1,\n",
       "          -1,  0,  0,  0,  0,  0,  0,  0,  1,  0,  0,  1],\n",
       "         [ 1,  0,  1,  1,  1,  1,  0,  0,  0,  0,  0,  1,  0,  0,  0,  0,  1,  1,\n",
       "           0,  1, -1,  0,  1,  1,  0,  0,  0,  0,  0,  1],\n",
       "         [ 1,  0,  0,  0,  0,  0,  0,  1,  0,  1,  0,  0,  1,  0,  1,  0,  0,  0,\n",
       "           0,  1,  1,  1,  0,  1,  0,  0,  0,  1,  0,  1],\n",
       "         [ 1,  1, -1,  1,  0,  1,  1,  0,  0,  0,  0,  0,  1,  0,  0,  0,  0,  1,\n",
       "          -1,  0,  0,  0,  0,  0,  1,  0,  1,  0,  0,  1],\n",
       "         [ 1,  0,  0,  0,  0,  0,  0,  0,  0,  0,  0,  0,  0,  1,  1,  1,  0,  0,\n",
       "           1,  0,  1,  0,  1,  0,  0,  0,  0,  0,  1,  1],\n",
       "         [ 1,  0,  1,  0,  0,  0,  1,  0,  1,  0,  0,  1,  0,  0,  0,  0,  0,  1,\n",
       "           0,  0,  0,  0,  0,  0,  1,  0,  0,  0,  1,  1],\n",
       "         [ 1, -1,  0,  0,  1,  0,  0,  0,  0,  1,  1, -1,  0,  1,  0,  1, -1,  0,\n",
       "           1,  0,  1,  0,  1,  0,  0,  0,  0,  0,  0,  1],\n",
       "         [ 1,  1,  0,  1,  0,  0,  1,  1,  0,  0,  1,  1,  1,  0,  0,  0,  1,  0,\n",
       "           0,  0,  0,  0,  1,  0,  1,  1,  1,  1,  0,  1],\n",
       "         [ 1,  0, -1,  0,  0,  0,  0,  0,  0,  1,  0,  0,  0,  1,  0,  1,  0,  0,\n",
       "           1,  0,  0,  0,  0,  0,  0,  0,  0,  0,  0,  1],\n",
       "         [ 1,  0,  1,  0,  0,  1,  0,  1,  0,  0,  0,  1,  0,  0,  0,  0,  0,  0,\n",
       "           1,  0,  1,  1,  1,  0,  0,  0,  1,  0,  0,  1],\n",
       "         [ 1, -1,  0,  0,  0,  1,  0,  0,  0,  1,  1,  0,  0,  0,  1, -1,  1,  0,\n",
       "           1,  0,  0,  0,  0,  0,  0,  0,  1,  0,  0,  1],\n",
       "         [ 1,  0,  1,  0,  1,  0,  0,  0,  1,  0,  0,  0,  0,  0,  0,  1,  0,  0,\n",
       "           0,  0,  0,  1,  1, -1,  1,  0,  0,  0,  1,  1],\n",
       "         [ 1, -1,  1,  0,  0,  0,  1,  0,  1, -1,  1, -1,  1,  0, -1,  0,  0,  1,\n",
       "           1,  0,  1,  1,  0,  1,  0,  0,  1,  0,  1,  1],\n",
       "         [ 1,  1,  0,  0,  1,  1,  1,  0,  0,  1,  0,  1,  0,  0,  1, -1,  0,  0,\n",
       "           0,  0,  0,  0,  0,  0,  0,  1,  0,  0,  0,  1],\n",
       "         [ 1,  0,  0,  1,  0,  0,  0,  0,  1,  1,  0,  1,  0,  1,  1, -1,  0,  1,\n",
       "           0,  1,  0,  1,  0,  1,  0,  0,  1,  0,  0,  1],\n",
       "         [ 1,  0,  0,  1,  0,  1,  1,  0,  0,  0,  0,  0, -1,  0,  0,  0,  1,  1,\n",
       "           0,  0,  0,  0,  0,  1,  1, -1,  0,  1,  0,  1],\n",
       "         [ 1,  0,  0,  1,  0,  1,  0,  0,  1,  0,  1,  0,  0,  0,  1, -1,  0,  0,\n",
       "           0,  1,  0,  1,  0,  0,  0,  1,  0,  0,  0,  1],\n",
       "         [ 1,  0,  0,  1,  0,  1,  0,  1,  0,  0,  1,  0,  0,  0,  0,  1, -1,  0,\n",
       "           0,  1,  0,  0,  0,  0,  0,  0,  1,  0,  1,  1],\n",
       "         [ 1,  1,  0,  1,  0,  1, -1,  0,  0,  0,  1,  0,  1,  0,  0,  1,  1,  0,\n",
       "           0,  1,  0,  0,  1,  0,  1,  0,  1,  0,  0,  1],\n",
       "         [ 1,  0,  0,  0,  0,  0,  1,  0,  1,  1,  0,  0,  0,  0,  1,  0,  0,  0,\n",
       "           0,  1, -1,  0,  0,  0,  0,  1,  0,  0,  1,  1],\n",
       "         [ 1,  0,  1,  1, -1,  0,  0,  1,  0,  0,  0,  1,  0,  1,  0,  0,  0,  0,\n",
       "           1,  0,  1,  0,  1,  1,  0,  0,  1,  0,  0,  1],\n",
       "         [ 1,  0,  0,  0,  1,  0,  1,  0,  0,  1,  0,  0,  1,  0,  0,  1, -1,  0,\n",
       "           1, -1,  0,  0,  0,  0,  0,  1,  0,  0,  1,  1],\n",
       "         [ 1, -1,  0,  1, -1, -1,  0,  0,  0,  0,  0,  1,  1,  1, -1,  0,  1, -1,\n",
       "           0,  1,  1, -1,  0,  1, -1,  0,  0,  0,  1,  1],\n",
       "         [ 1,  1,  1,  1,  1,  1,  1,  1,  1,  1,  1,  1,  1,  1,  1,  1,  1,  1,\n",
       "           1,  1,  1,  1,  1,  1,  1,  1,  1,  1,  1,  1]], dtype=torch.int32),\n",
       " tensor(386.))"
      ]
     },
     "execution_count": 107,
     "metadata": {},
     "output_type": "execute_result"
    }
   ],
   "source": [
    "x_train[0], y_train[0]"
   ]
  },
  {
   "cell_type": "code",
   "execution_count": 109,
   "id": "4d2b3b3f-2a16-4c1c-b285-98d2bb9f2731",
   "metadata": {},
   "outputs": [],
   "source": [
    "def get_batch( x, y, batch_size ):\n",
    "  n = x.shape[0]\n",
    "  batch_indices = random.sample( [ i for i in range(n) ], k = batch_size )\n",
    "  x_batch = x[ batch_indices ]\n",
    "  y_batch = y[ batch_indices ]"
   ]
  },
  {
   "cell_type": "code",
   "execution_count": 111,
   "id": "bbac75a5-f4fb-4514-93f6-0abb3af8e96e",
   "metadata": {},
   "outputs": [
    {
     "ename": "TypeError",
     "evalue": "cannot unpack non-iterable NoneType object",
     "output_type": "error",
     "traceback": [
      "\u001b[0;31m---------------------------------------------------------------------------\u001b[0m",
      "\u001b[0;31mTypeError\u001b[0m                                 Traceback (most recent call last)",
      "Cell \u001b[0;32mIn[111], line 8\u001b[0m\n\u001b[1;32m      5\u001b[0m cnn_total_loss \u001b[38;5;241m=\u001b[39m \u001b[38;5;241m0\u001b[39m\n\u001b[1;32m      7\u001b[0m \u001b[38;5;28;01mfor\u001b[39;00m batch \u001b[38;5;129;01min\u001b[39;00m \u001b[38;5;28mrange\u001b[39m( \u001b[38;5;241m60000\u001b[39m \u001b[38;5;241m/\u001b[39m\u001b[38;5;241m/\u001b[39m batch_size ):\n\u001b[0;32m----> 8\u001b[0m   x_batch, y_batch \u001b[38;5;241m=\u001b[39m get_batch( x_train, y_train, batch_size )\n\u001b[1;32m     10\u001b[0m   cnn_optimizer\u001b[38;5;241m.\u001b[39mzero_grad()\n\u001b[1;32m     12\u001b[0m   cnn_logits, cnn_probabilities \u001b[38;5;241m=\u001b[39m cnn_model( x_batch )\n",
      "\u001b[0;31mTypeError\u001b[0m: cannot unpack non-iterable NoneType object"
     ]
    }
   ],
   "source": [
    "batch_size = 1024\n",
    "cnn_model.train()\n",
    "\n",
    "for epochs in range(10):\n",
    "  cnn_total_loss = 0\n",
    "\n",
    "  for batch in range( 60000 // batch_size ):\n",
    "    x_batch, y_batch = get_batch( x_train, y_train, batch_size )\n",
    "\n",
    "    cnn_optimizer.zero_grad()\n",
    "\n",
    "    cnn_logits, cnn_probabilities = cnn_model( x_batch )\n",
    "\n",
    "    cnn_loss = loss_function( cnn_logits, y_batch )\n",
    "\n",
    "    cnn_loss.backward()\n",
    "\n",
    "    cnn_optimizer.step()\n",
    "\n",
    "    cnn_total_loss += cnn_loss.item()\n",
    "\n",
    "  print(\"Average Loss per Data Point (Reg/CNN):\", total_loss / ( 60000 // batch_size ), cnn_total_loss / ( 60000 // batch_size ) )"
   ]
  },
  {
   "cell_type": "code",
   "execution_count": null,
   "id": "45663f1a-9d56-46de-a771-9ee1304cf44d",
   "metadata": {},
   "outputs": [],
   "source": []
  }
 ],
 "metadata": {
  "kernelspec": {
   "display_name": "Python [conda env:base] *",
   "language": "python",
   "name": "conda-base-py"
  },
  "language_info": {
   "codemirror_mode": {
    "name": "ipython",
    "version": 3
   },
   "file_extension": ".py",
   "mimetype": "text/x-python",
   "name": "python",
   "nbconvert_exporter": "python",
   "pygments_lexer": "ipython3",
   "version": "3.12.2"
  }
 },
 "nbformat": 4,
 "nbformat_minor": 5
}
